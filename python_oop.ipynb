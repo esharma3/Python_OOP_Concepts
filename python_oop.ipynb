{
 "cells": [
  {
   "cell_type": "markdown",
   "metadata": {},
   "source": [
    "# Python Object Oriented Programming Concepts"
   ]
  },
  {
   "cell_type": "markdown",
   "metadata": {},
   "source": [
    "Object Oriented Programming is a programming paradigm that lets you think of your data as objects that have attributes and methods.  "
   ]
  },
  {
   "cell_type": "markdown",
   "metadata": {},
   "source": [
    "### Defining a Class"
   ]
  },
  {
   "cell_type": "code",
   "execution_count": 47,
   "metadata": {},
   "outputs": [],
   "source": [
    "class Employee:\n",
    "    \n",
    "    # Class variable\n",
    "    emp_count = 0\n",
    "    \n",
    "    # Constructor\n",
    "    def __init__(self, fname, lname, salary):\n",
    "        # Instance variables\n",
    "        self.fname = fname\n",
    "        self.lname = lname\n",
    "        self.salary = salary\n",
    "        \n",
    "    \n",
    "    # Instance method / Regular method. Takes \"self\" as the first argument. \n",
    "    def profile(self):\n",
    "        return self.fname + \" \" + self.lname + \", Salary $\" + str(self.salary)\n",
    "    \n",
    "    # Class method. Takes \"cls\" as the first argument\n",
    "    @classmethod\n",
    "    def total_emp(cls):\n",
    "        cls.emp_count += 1\n",
    "        \n",
    "    # Dunder Repr method\n",
    "    def __repr__(self):\n",
    "        return employee(self.fname, self.lname, self.salary)\n",
    "    \n",
    "    # Dunder str method\n",
    "    def __str__(self):\n",
    "        return self.fname + \" \" + self.lname + \", Salary $\" + str(self.salary)\n",
    "    "
   ]
  },
  {
   "cell_type": "markdown",
   "metadata": {},
   "source": [
    "### Instantiating the Class"
   ]
  },
  {
   "cell_type": "code",
   "execution_count": 48,
   "metadata": {},
   "outputs": [],
   "source": [
    "# If we will not pass the argument values then it will give TypeError: __init__() missing 3 required positional arguments: \n",
    "# 'fname', 'lname', and 'salary'\n",
    "\n",
    "emp1 = Employee(\"Jim\", \"Corbett\", 800000)"
   ]
  },
  {
   "cell_type": "code",
   "execution_count": 49,
   "metadata": {},
   "outputs": [
    {
     "name": "stdout",
     "output_type": "stream",
     "text": [
      "Jim Corbett, Salary $800000\n"
     ]
    }
   ],
   "source": [
    "print(emp1)"
   ]
  },
  {
   "cell_type": "code",
   "execution_count": 50,
   "metadata": {},
   "outputs": [
    {
     "data": {
      "text/plain": [
       "'Jim Corbett, Salary $800000'"
      ]
     },
     "execution_count": 50,
     "metadata": {},
     "output_type": "execute_result"
    }
   ],
   "source": [
    "emp1.profile()"
   ]
  },
  {
   "cell_type": "code",
   "execution_count": 51,
   "metadata": {},
   "outputs": [],
   "source": [
    "Employee.total_emp()"
   ]
  },
  {
   "cell_type": "code",
   "execution_count": null,
   "metadata": {},
   "outputs": [],
   "source": []
  },
  {
   "cell_type": "code",
   "execution_count": null,
   "metadata": {},
   "outputs": [],
   "source": []
  }
 ],
 "metadata": {
  "kernelspec": {
   "display_name": "models",
   "language": "python",
   "name": "models"
  },
  "language_info": {
   "codemirror_mode": {
    "name": "ipython",
    "version": 3
   },
   "file_extension": ".py",
   "mimetype": "text/x-python",
   "name": "python",
   "nbconvert_exporter": "python",
   "pygments_lexer": "ipython3",
   "version": "3.7.5"
  }
 },
 "nbformat": 4,
 "nbformat_minor": 2
}
