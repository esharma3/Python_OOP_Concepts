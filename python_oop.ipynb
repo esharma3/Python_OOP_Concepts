{
 "cells": [
  {
   "cell_type": "markdown",
   "metadata": {},
   "source": [
    "# Python Object Oriented Programming Concepts"
   ]
  },
  {
   "cell_type": "markdown",
   "metadata": {},
   "source": [
    "Object Oriented Programming is a programming paradigm that lets you think of your data as objects that have attributes and methods.  "
   ]
  },
  {
   "cell_type": "markdown",
   "metadata": {},
   "source": [
    "### Defining a Class"
   ]
  },
  {
   "cell_type": "code",
   "execution_count": 1,
   "metadata": {},
   "outputs": [],
   "source": [
    "class Employee:\n",
    "    \n",
    "    # Class variables. Don't use \"self\" prefix when declaring. \n",
    "    emp_count = 0\n",
    "    raise_amt = 1.30\n",
    "    \n",
    "    # Constructor\n",
    "    def __init__(self, fname, lname, salary):\n",
    "        # Instance variables. Use \"self\" prefix when declaring.\n",
    "        self.fname = fname\n",
    "        self.lname = lname\n",
    "        self.salary = salary\n",
    "        \n",
    "        # class object will be ABLE TO ACCESS IT \n",
    "        self.email = fname + \".\" + lname + \"@email.com\"\n",
    "        \n",
    "        # Every time the class is instantiated, add one to the employee count.\n",
    "        Employee.emp_count += 1\n",
    "        \n",
    "    \n",
    "    # Instance method / Regular method. Takes \"self\" as the first argument. \n",
    "    def profile(self):\n",
    "        return f\"{self.fname} {self.lname}, Salary ${self.salary}\"\n",
    "    \n",
    "    # Class method. Takes \"cls\" as the first argument.\n",
    "    @classmethod\n",
    "    def update_raise(cls, amount):\n",
    "        cls.raise_amt = amount\n",
    "        \n",
    "    # Accessing Class variable\n",
    "    def raise_salary(self):\n",
    "        return f\"Raised Salary {self.salary * self.raise_amt}\"\n",
    "        # To access the class variable, use either self.raise_amt or Employee.raise_amt.\n",
    "        \n",
    "    # Static method. Will need to be accessed using the instance or the class. \n",
    "    @staticmethod\n",
    "    def capitalize_name(name):\n",
    "        return name.title()\n",
    "    \n",
    "    # Dunder repr() method\n",
    "    def __repr__(self):\n",
    "        return f\"Employee{(self.fname, self.lname, self.salary)}\"\n",
    "    \n",
    "    # Dunder str() method\n",
    "    def __str__(self):\n",
    "        return f\"{self.fname} {self.lname}, Email: {self.email}, Salary ${self.salary}\"\n",
    "    "
   ]
  },
  {
   "cell_type": "markdown",
   "metadata": {},
   "source": [
    "### Instantiating the Class & Accesing its Attributes and Methods"
   ]
  },
  {
   "cell_type": "code",
   "execution_count": 2,
   "metadata": {},
   "outputs": [],
   "source": [
    "# If we will not pass the argument values then it will give TypeError: __init__() missing 3 required positional arguments: \n",
    "# 'fname', 'lname', and 'salary'\n",
    "\n",
    "# Instantiating the Employee Class\n",
    "emp1 = Employee(\"Jim\", \"Corbett\", 800000)\n",
    "emp2 = Employee(\"Ram\", \"Roman\", 900000)"
   ]
  },
  {
   "cell_type": "code",
   "execution_count": 3,
   "metadata": {},
   "outputs": [
    {
     "data": {
      "text/plain": [
       "'Jim Corbett, Salary $800000'"
      ]
     },
     "execution_count": 3,
     "metadata": {},
     "output_type": "execute_result"
    }
   ],
   "source": [
    "# Accesing Regular/Instance Method with Instance variables\n",
    "emp1.profile()"
   ]
  },
  {
   "cell_type": "code",
   "execution_count": 4,
   "metadata": {},
   "outputs": [
    {
     "data": {
      "text/plain": [
       "'Raised Salary 1040000.0'"
      ]
     },
     "execution_count": 4,
     "metadata": {},
     "output_type": "execute_result"
    }
   ],
   "source": [
    "# Accesing Regular/Instance Method with Instance and Class variables\n",
    "emp1.raise_salary()"
   ]
  },
  {
   "cell_type": "code",
   "execution_count": 5,
   "metadata": {},
   "outputs": [
    {
     "name": "stdout",
     "output_type": "stream",
     "text": [
      "1.3\n",
      "1.3\n",
      "1.25\n",
      "1.25\n"
     ]
    }
   ],
   "source": [
    "# Accessing Class variable using the Class and using the Class Instance\n",
    "print(Employee.raise_amt)\n",
    "print(emp1.raise_amt)\n",
    "\n",
    "# Updating Class variable\n",
    "Employee.raise_amt = 1.25\n",
    "print(Employee.raise_amt)\n",
    "print(emp1.raise_amt)"
   ]
  },
  {
   "cell_type": "code",
   "execution_count": 6,
   "metadata": {},
   "outputs": [
    {
     "name": "stdout",
     "output_type": "stream",
     "text": [
      "{'__module__': '__main__', 'emp_count': 2, 'raise_amt': 1.25, '__init__': <function Employee.__init__ at 0x000001713265C1F8>, 'profile': <function Employee.profile at 0x000001713265C288>, 'update_raise': <classmethod object at 0x000001713260F6C8>, 'raise_salary': <function Employee.raise_salary at 0x000001713265C3A8>, 'capitalize_name': <staticmethod object at 0x000001713261C388>, '__repr__': <function Employee.__repr__ at 0x000001713265C4C8>, '__str__': <function Employee.__str__ at 0x000001713265C558>, '__dict__': <attribute '__dict__' of 'Employee' objects>, '__weakref__': <attribute '__weakref__' of 'Employee' objects>, '__doc__': None}\n"
     ]
    }
   ],
   "source": [
    "# Printing the namespace for the Class Employee. This will show the Class Variable. Note namespace is maintained as a dict.\n",
    "print(Employee.__dict__)"
   ]
  },
  {
   "cell_type": "code",
   "execution_count": 7,
   "metadata": {},
   "outputs": [
    {
     "name": "stdout",
     "output_type": "stream",
     "text": [
      "{'fname': 'Jim', 'lname': 'Corbett', 'salary': 800000, 'email': 'Jim.Corbett@email.com'}\n"
     ]
    }
   ],
   "source": [
    "# Printing the namespace for the Class Instance emp1. This will not show the Class Variable. \n",
    "print(emp1.__dict__)"
   ]
  },
  {
   "cell_type": "code",
   "execution_count": 8,
   "metadata": {},
   "outputs": [
    {
     "data": {
      "text/plain": [
       "2"
      ]
     },
     "execution_count": 8,
     "metadata": {},
     "output_type": "execute_result"
    }
   ],
   "source": [
    "# Accessing Class Variable\n",
    "Employee.emp_count"
   ]
  },
  {
   "cell_type": "code",
   "execution_count": 9,
   "metadata": {},
   "outputs": [
    {
     "name": "stdout",
     "output_type": "stream",
     "text": [
      "1.5\n"
     ]
    }
   ],
   "source": [
    "# Accessing Class Method.\n",
    "Employee.update_raise(1.5)\n",
    "print(Employee.raise_amt)"
   ]
  },
  {
   "cell_type": "code",
   "execution_count": 10,
   "metadata": {},
   "outputs": [
    {
     "data": {
      "text/plain": [
       "'Jim Corbett'"
      ]
     },
     "execution_count": 10,
     "metadata": {},
     "output_type": "execute_result"
    }
   ],
   "source": [
    "# Accessing Static Method\n",
    "emp1.capitalize_name(\"jim corBEtt\")"
   ]
  },
  {
   "cell_type": "code",
   "execution_count": 11,
   "metadata": {},
   "outputs": [
    {
     "name": "stdout",
     "output_type": "stream",
     "text": [
      "Employee('Jim', 'Corbett', 800000)\n",
      "Jim Corbett, Email: Jim.Corbett@email.com, Salary $800000\n"
     ]
    }
   ],
   "source": [
    "# Accessing Dunder Methods - repr() and str()\n",
    "print(repr(emp1))\n",
    "print(str(emp1))"
   ]
  },
  {
   "cell_type": "code",
   "execution_count": 12,
   "metadata": {},
   "outputs": [],
   "source": [
    "# Class Inheritance. Creating a child class inheriting from the parent class Employee.\n",
    "class Data_Scientist(Employee):\n",
    "    pass    "
   ]
  },
  {
   "cell_type": "code",
   "execution_count": 13,
   "metadata": {},
   "outputs": [
    {
     "data": {
      "text/plain": [
       "Employee('You', 'There', 100000)"
      ]
     },
     "execution_count": 13,
     "metadata": {},
     "output_type": "execute_result"
    }
   ],
   "source": [
    "# instantiating the child class\n",
    "ds1 = Data_Scientist(\"You\", \"There\", 100000)\n",
    "ds1"
   ]
  },
  {
   "cell_type": "code",
   "execution_count": 14,
   "metadata": {},
   "outputs": [
    {
     "name": "stdout",
     "output_type": "stream",
     "text": [
      "Employee('You', 'There', 100000)\n",
      "You There, Email: You.There@email.com, Salary $100000\n"
     ]
    }
   ],
   "source": [
    "# Accessing parent class's Dunder repr() and str() methods using child class instance\n",
    "print(repr(ds1))\n",
    "print(str(ds1))"
   ]
  },
  {
   "cell_type": "code",
   "execution_count": 15,
   "metadata": {},
   "outputs": [
    {
     "name": "stdout",
     "output_type": "stream",
     "text": [
      "Help on class Data_Scientist in module __main__:\n",
      "\n",
      "class Data_Scientist(Employee)\n",
      " |  Data_Scientist(fname, lname, salary)\n",
      " |  \n",
      " |  Method resolution order:\n",
      " |      Data_Scientist\n",
      " |      Employee\n",
      " |      builtins.object\n",
      " |  \n",
      " |  Methods inherited from Employee:\n",
      " |  \n",
      " |  __init__(self, fname, lname, salary)\n",
      " |      Initialize self.  See help(type(self)) for accurate signature.\n",
      " |  \n",
      " |  __repr__(self)\n",
      " |      Return repr(self).\n",
      " |  \n",
      " |  __str__(self)\n",
      " |      Return str(self).\n",
      " |  \n",
      " |  profile(self)\n",
      " |      # Instance method / Regular method. Takes \"self\" as the first argument.\n",
      " |  \n",
      " |  raise_salary(self)\n",
      " |      # Accessing Class variable\n",
      " |  \n",
      " |  ----------------------------------------------------------------------\n",
      " |  Class methods inherited from Employee:\n",
      " |  \n",
      " |  update_raise(amount) from builtins.type\n",
      " |      # Class method. Takes \"cls\" as the first argument.\n",
      " |  \n",
      " |  ----------------------------------------------------------------------\n",
      " |  Static methods inherited from Employee:\n",
      " |  \n",
      " |  capitalize_name(name)\n",
      " |      # Static method. Will need to be accessed using the instance or the class.\n",
      " |  \n",
      " |  ----------------------------------------------------------------------\n",
      " |  Data descriptors inherited from Employee:\n",
      " |  \n",
      " |  __dict__\n",
      " |      dictionary for instance variables (if defined)\n",
      " |  \n",
      " |  __weakref__\n",
      " |      list of weak references to the object (if defined)\n",
      " |  \n",
      " |  ----------------------------------------------------------------------\n",
      " |  Data and other attributes inherited from Employee:\n",
      " |  \n",
      " |  emp_count = 3\n",
      " |  \n",
      " |  raise_amt = 1.5\n",
      "\n",
      "None\n"
     ]
    }
   ],
   "source": [
    "# The help function will show all the Parent class attributes and methods that the child class Data_Scientist has access to \n",
    "print(help(Data_Scientist))"
   ]
  },
  {
   "cell_type": "code",
   "execution_count": 16,
   "metadata": {},
   "outputs": [],
   "source": [
    "# Polymorphism - inheriting from a parent class and overriding a parent class method\n",
    "class Data_Scientist(Employee):\n",
    "    \n",
    "    def __init__(self, fname, lname, salary, area_of_expertise):\n",
    "        \n",
    "        Employee.__init__(self, fname, lname, salary)\n",
    "        self.area_of_expertise = area_of_expertise\n",
    "        \n",
    "    # Overriding parent class's Instance method.\n",
    "    def profile(self):\n",
    "        return f\"{self.fname} {self.lname}, Salary ${self.salary}, Expertise: {self.area_of_expertise}\"\n",
    "        \n",
    "    # Dunder repr() method\n",
    "    def __repr__(self):\n",
    "        return f\"Employee{(self.fname, self.lname, self.salary, self.area_of_expertise)}\"\n",
    "    \n",
    "    # Dunder str() method\n",
    "    def __str__(self):\n",
    "        return f\"{self.fname} {self.lname}, Email: {self.email}, Salary ${self.salary}, Expertise: {self.area_of_expertise}\"\n",
    "        "
   ]
  },
  {
   "cell_type": "code",
   "execution_count": 17,
   "metadata": {},
   "outputs": [
    {
     "data": {
      "text/plain": [
       "'You There, Salary $100000, Expertise: NLP'"
      ]
     },
     "execution_count": 17,
     "metadata": {},
     "output_type": "execute_result"
    }
   ],
   "source": [
    "ds2 = Data_Scientist(\"You\", \"There\", 100000, \"NLP\")\n",
    "ds2.profile()"
   ]
  },
  {
   "cell_type": "code",
   "execution_count": 18,
   "metadata": {},
   "outputs": [
    {
     "name": "stdout",
     "output_type": "stream",
     "text": [
      "Employee('You', 'There', 100000, 'NLP')\n",
      "You There, Email: You.There@email.com, Salary $100000, Expertise: NLP\n"
     ]
    }
   ],
   "source": [
    "# Accessing Dunder Methods - repr() and str()\n",
    "print(repr(ds2))\n",
    "print(str(ds2))"
   ]
  },
  {
   "cell_type": "markdown",
   "metadata": {},
   "source": [
    "## Operator Overloading\n",
    "\n",
    "Example:\n",
    "    \n",
    "* The + operator is used to add two integers, to join two strings and to merge two lists. \n",
    "* It is achievable because ‘+’ operator is overloaded by int class and str class. \n",
    "* The same built-in operator or function shows different behavior for objects of different classes, this is called Operator Overloading."
   ]
  },
  {
   "cell_type": "code",
   "execution_count": 19,
   "metadata": {},
   "outputs": [
    {
     "name": "stdout",
     "output_type": "stream",
     "text": [
      "3\n",
      "Hello World\n",
      "[1, 2, 3, 4, 5, 6]\n"
     ]
    }
   ],
   "source": [
    "# Same operator + performing 3 different functions\n",
    "print(1 + 2)\n",
    "print(\"Hello \" + \"World\")\n",
    "print([1,2,3] + [4,5,6])   # merging 2 lists"
   ]
  },
  {
   "cell_type": "code",
   "execution_count": 20,
   "metadata": {},
   "outputs": [
    {
     "name": "stdout",
     "output_type": "stream",
     "text": [
      "4\n",
      "Hi Hi Hi \n"
     ]
    }
   ],
   "source": [
    "# Same operator * performing 2 different functions\n",
    "\n",
    "print(2 * 2)\n",
    "print(\"Hi \" * 3)"
   ]
  },
  {
   "cell_type": "code",
   "execution_count": 21,
   "metadata": {},
   "outputs": [],
   "source": [
    "class Example:\n",
    "    \n",
    "    def __init__(self, a):\n",
    "        self.a = a\n",
    "        \n",
    "    def __add__(self, o):\n",
    "        return self.a + o.a"
   ]
  },
  {
   "cell_type": "code",
   "execution_count": 22,
   "metadata": {},
   "outputs": [],
   "source": [
    "ex1 = Example(1)\n",
    "ex2 = Example(2)"
   ]
  },
  {
   "cell_type": "code",
   "execution_count": 23,
   "metadata": {},
   "outputs": [
    {
     "name": "stdout",
     "output_type": "stream",
     "text": [
      "3\n"
     ]
    }
   ],
   "source": [
    "print(ex1 + ex2)"
   ]
  },
  {
   "cell_type": "code",
   "execution_count": null,
   "metadata": {},
   "outputs": [],
   "source": []
  }
 ],
 "metadata": {
  "kernelspec": {
   "display_name": "models",
   "language": "python",
   "name": "models"
  },
  "language_info": {
   "codemirror_mode": {
    "name": "ipython",
    "version": 3
   },
   "file_extension": ".py",
   "mimetype": "text/x-python",
   "name": "python",
   "nbconvert_exporter": "python",
   "pygments_lexer": "ipython3",
   "version": "3.7.5"
  }
 },
 "nbformat": 4,
 "nbformat_minor": 2
}
