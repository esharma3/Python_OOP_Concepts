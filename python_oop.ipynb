{
 "cells": [
  {
   "cell_type": "markdown",
   "metadata": {},
   "source": [
    "# Python Object Oriented Programming Concepts"
   ]
  },
  {
   "cell_type": "markdown",
   "metadata": {},
   "source": [
    "Object Oriented Programming is a programming paradigm that lets you think of your data as objects that have attributes and methods.  "
   ]
  },
  {
   "cell_type": "markdown",
   "metadata": {},
   "source": [
    "### Defining a Class"
   ]
  },
  {
   "cell_type": "code",
   "execution_count": 39,
   "metadata": {},
   "outputs": [],
   "source": [
    "class Employee:\n",
    "    \n",
    "    # Class variables. Don't use \"self\" prefix when declaring. \n",
    "    emp_count = 0\n",
    "    raise_amt = 1.30\n",
    "    \n",
    "    # Constructor\n",
    "    def __init__(self, fname, lname, salary):\n",
    "        # Instance variables. Use \"self\" prefix when declaring.\n",
    "        self.fname = fname\n",
    "        self.lname = lname\n",
    "        self.salary = salary\n",
    "        self.email = fname + \".\" + lname + \"@email.com\"\n",
    "        \n",
    "        # Every time the class is instantiated, add one to the employee count.\n",
    "        Employee.emp_count += 1\n",
    "        \n",
    "    \n",
    "    # Instance method / Regular method. Takes \"self\" as the first argument. \n",
    "    def profile(self):\n",
    "        return f\"{self.fname} {self.lname}, Salary ${self.salary}\"\n",
    "    \n",
    "    # Class method. Takes \"cls\" as the first argument.\n",
    "    @classmethod\n",
    "    def total_emp(cls):\n",
    "        cls.emp_count += 1\n",
    "        \n",
    "    # Accessing Class variable\n",
    "    def raise_salary(self):\n",
    "        return f\"Raised Salary {self.salary * self.raise_amt}\"\n",
    "        # To access the class variable, use either self.raise_amt or Employee.raise_amt.\n",
    "    \n",
    "    # Dunder repr() method\n",
    "    def __repr__(self):\n",
    "        return f\"Employee{(self.fname, self.lname, self.salary)}\"\n",
    "    \n",
    "    # Dunder str() method\n",
    "    def __str__(self):\n",
    "        return f\"{self.fname} {self.lname}, Email: {self.email}, Salary ${self.salary}\"\n",
    "    "
   ]
  },
  {
   "cell_type": "markdown",
   "metadata": {},
   "source": [
    "### Instantiating the Class & Accesing its Attributes and Methods"
   ]
  },
  {
   "cell_type": "code",
   "execution_count": 40,
   "metadata": {},
   "outputs": [],
   "source": [
    "# If we will not pass the argument values then it will give TypeError: __init__() missing 3 required positional arguments: \n",
    "# 'fname', 'lname', and 'salary'\n",
    "\n",
    "# Instantiating the Employee Class\n",
    "emp1 = Employee(\"Jim\", \"Corbett\", 800000)\n",
    "emp2 = Employee(\"Ram\", \"Roman\", 900000)"
   ]
  },
  {
   "cell_type": "code",
   "execution_count": 41,
   "metadata": {},
   "outputs": [
    {
     "data": {
      "text/plain": [
       "'Jim Corbett, Salary $800000'"
      ]
     },
     "execution_count": 41,
     "metadata": {},
     "output_type": "execute_result"
    }
   ],
   "source": [
    "# Accesing Regular/Instance Method with Instance variables\n",
    "emp1.profile()"
   ]
  },
  {
   "cell_type": "code",
   "execution_count": 42,
   "metadata": {},
   "outputs": [
    {
     "data": {
      "text/plain": [
       "'Raised Salary 1040000.0'"
      ]
     },
     "execution_count": 42,
     "metadata": {},
     "output_type": "execute_result"
    }
   ],
   "source": [
    "# Accesing Regular/Instance Method with Instance and Class variables\n",
    "emp1.raise_salary()"
   ]
  },
  {
   "cell_type": "code",
   "execution_count": 43,
   "metadata": {},
   "outputs": [
    {
     "name": "stdout",
     "output_type": "stream",
     "text": [
      "1.3\n",
      "1.3\n",
      "1.25\n",
      "1.25\n"
     ]
    }
   ],
   "source": [
    "# Accessing Class variable using the Class and using the Class Instance\n",
    "print(Employee.raise_amt)\n",
    "print(emp1.raise_amt)\n",
    "\n",
    "# Updating Class variable\n",
    "Employee.raise_amt = 1.25\n",
    "print(Employee.raise_amt)\n",
    "print(emp1.raise_amt)"
   ]
  },
  {
   "cell_type": "code",
   "execution_count": 44,
   "metadata": {},
   "outputs": [
    {
     "name": "stdout",
     "output_type": "stream",
     "text": [
      "{'__module__': '__main__', 'emp_count': 2, 'raise_amt': 1.25, '__init__': <function Employee.__init__ at 0x000001C356A0C048>, 'profile': <function Employee.profile at 0x000001C356AD0438>, 'total_emp': <classmethod object at 0x000001C356AC60C8>, 'raise_salary': <function Employee.raise_salary at 0x000001C356AD0318>, '__repr__': <function Employee.__repr__ at 0x000001C356AD0288>, '__str__': <function Employee.__str__ at 0x000001C356AD01F8>, '__dict__': <attribute '__dict__' of 'Employee' objects>, '__weakref__': <attribute '__weakref__' of 'Employee' objects>, '__doc__': None}\n"
     ]
    }
   ],
   "source": [
    "# Printing the namespace for the Class Employee. This will show the Class Variable. \n",
    "print(Employee.__dict__)"
   ]
  },
  {
   "cell_type": "code",
   "execution_count": 45,
   "metadata": {},
   "outputs": [
    {
     "name": "stdout",
     "output_type": "stream",
     "text": [
      "{'fname': 'Jim', 'lname': 'Corbett', 'salary': 800000, 'email': 'Jim.Corbett@email.com'}\n"
     ]
    }
   ],
   "source": [
    "# Printing the namespace for the Class Instance emp1. This will not show the Class Variable. \n",
    "print(emp1.__dict__)"
   ]
  },
  {
   "cell_type": "code",
   "execution_count": 46,
   "metadata": {},
   "outputs": [
    {
     "data": {
      "text/plain": [
       "2"
      ]
     },
     "execution_count": 46,
     "metadata": {},
     "output_type": "execute_result"
    }
   ],
   "source": [
    "# Accessing Class Variable\n",
    "Employee.emp_count"
   ]
  },
  {
   "cell_type": "code",
   "execution_count": 47,
   "metadata": {},
   "outputs": [
    {
     "name": "stdout",
     "output_type": "stream",
     "text": [
      "Employee('Jim', 'Corbett', 800000)\n",
      "Jim Corbett, Email: Jim.Corbett@email.com, Salary $800000\n"
     ]
    }
   ],
   "source": [
    "# Accessing Dunder Methods - repr() and str()\n",
    "print(repr(emp1))\n",
    "print(str(emp1))"
   ]
  },
  {
   "cell_type": "code",
   "execution_count": null,
   "metadata": {},
   "outputs": [],
   "source": []
  },
  {
   "cell_type": "code",
   "execution_count": null,
   "metadata": {},
   "outputs": [],
   "source": []
  }
 ],
 "metadata": {
  "kernelspec": {
   "display_name": "models",
   "language": "python",
   "name": "models"
  },
  "language_info": {
   "codemirror_mode": {
    "name": "ipython",
    "version": 3
   },
   "file_extension": ".py",
   "mimetype": "text/x-python",
   "name": "python",
   "nbconvert_exporter": "python",
   "pygments_lexer": "ipython3",
   "version": "3.7.5"
  }
 },
 "nbformat": 4,
 "nbformat_minor": 2
}
